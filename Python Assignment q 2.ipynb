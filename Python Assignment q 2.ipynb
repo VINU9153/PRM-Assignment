{
 "cells": [
  {
   "cell_type": "code",
   "execution_count": 1,
   "id": "f37021f4",
   "metadata": {},
   "outputs": [],
   "source": [
    "#Your task is to complete the validate_triangle and validate_rectangle functions for the classes.Hint for validating is given\n",
    "#in the comments of the code. Also you will have to print the following after validation in respective functions:-\n",
    "\n",
    "#1.Invalid Triangle: If the triangle sum property of sides is not valid(More hint in the comments of code)\n",
    "\n",
    "#2.Valid Triangle:If the triangle sum property of sides is valid.\n",
    "\n",
    "#3.Valid Rectangle:If 2 side pairs are same and they are input in correct order like l,b,l,b\n",
    "\n",
    "#4.Invalid Rectangle: If Not Valid rectangle as stated above.\n",
    "\n",
    "#Input Format:\n",
    "\n",
    "#The side length of triangle followed by for rectangle in the next line in order.\n",
    "\n",
    "#Output Format:\n",
    "\n",
    "#since object are created in order, so first validate info about triangle will come and than rectangle.\n",
    "\n",
    "#Sample Input 0:\n",
    "\n",
    "#3 4 5\n",
    "\n",
    "#2 4 2 4\n",
    "\n",
    "#Sample Output 0:\n",
    "\n",
    "#Valid Triangle\n",
    "\n",
    "#Valid Rectangle"
   ]
  },
  {
   "cell_type": "code",
   "execution_count": 2,
   "id": "3323d44b",
   "metadata": {},
   "outputs": [
    {
     "name": "stdout",
     "output_type": "stream",
     "text": [
      "Enter length of triangle :3\n",
      "Enter height of triangle :4\n",
      "Enter base of triangle :5\n",
      "The length, height & base of triangle is : 3 4 5\n",
      "Enter the first length of rectangle :2\n",
      "Enter the first width of rectangle :4\n",
      "Enter the second length of rectangle : 2\n",
      "Enter the second width of rectangle :4\n",
      "The first length &  width of rectangle is : 2 4\n",
      "The second length & width of rectangle is : 2 4\n",
      "Valid Triangle\n",
      "Valid Rectangle\n"
     ]
    }
   ],
   "source": [
    "def validtriangle(m,n,o):\n",
    "    if(m+n>o) or (m+o>n) or (n+o>m):\n",
    "        return(\"Valid Triangle\")\n",
    "    else:\n",
    "        return(\"Invalid Triangle\")\n",
    "    \n",
    "    \n",
    "def validrectangle(l1,b1,l2,b2):\n",
    "    if (l1==l2 and b1==b2):\n",
    "        return\"Valid Rectangle\"\n",
    "    else:\n",
    "        return\"Invalid Rectangle\"\n",
    "    \n",
    "\n",
    "\n",
    "m =int(input(\"Enter length of triangle :\"))\n",
    "n = int(input(\"Enter height of triangle :\"))\n",
    "o =int(input(\"Enter base of triangle :\"))\n",
    "print (\"The length, height & base of triangle is :\",m,n,o)\n",
    "l1 =int(input(\"Enter the first length of rectangle :\"))\n",
    "b1 =int(input(\"Enter the first width of rectangle :\"))\n",
    "l2 =int(input(\"Enter the second length of rectangle : \"))\n",
    "b2 =int(input(\"Enter the second width of rectangle :\"))\n",
    "print (\"The first length &  width of rectangle is :\",l1,b1) \n",
    "print (\"The second length & width of rectangle is :\",l2,b2)\n",
    "\n",
    "z=validtriangle(m,n,o)\n",
    "x=validrectangle(l1,b1,l2,b2)\n",
    "print(z)\n",
    "print(x)"
   ]
  },
  {
   "cell_type": "code",
   "execution_count": 3,
   "id": "f57bbfdc",
   "metadata": {},
   "outputs": [
    {
     "name": "stdout",
     "output_type": "stream",
     "text": [
      "Enter length of triangle :3\n",
      "Enter height of triangle :4\n",
      "Enter base of triangle :5\n",
      "The length, height & base of triangle is : 3 4 5\n",
      "Enter the first length of rectangle :2\n",
      "Enter the first width of rectangle :4\n",
      "Enter the second length of rectangle : 2\n",
      "Enter the second width of rectangle :4\n",
      "The first length &  width of rectangle is : 2 4\n",
      "The second length & width of rectangle is : 2 4\n",
      "Valid triangle\n",
      "Valid Rectangle\n"
     ]
    }
   ],
   "source": [
    "m =int(input(\"Enter length of triangle :\"))\n",
    "n = int(input(\"Enter height of triangle :\"))\n",
    "o =int(input(\"Enter base of triangle :\"))\n",
    "print (\"The length, height & base of triangle is :\",m,n,o)\n",
    "l1 =int(input(\"Enter the first length of rectangle :\"))\n",
    "b1 =int(input(\"Enter the first width of rectangle :\"))\n",
    "l2 =int(input(\"Enter the second length of rectangle : \"))\n",
    "b2 =int(input(\"Enter the second width of rectangle :\"))\n",
    "print (\"The first length &  width of rectangle is :\",l1,b1) \n",
    "print (\"The second length & width of rectangle is :\",l2,b2)\n",
    "\n",
    "\n",
    "if (m + n <= 0) or (m +o<= n) or (n + o <= m) :\n",
    "    print(\"Invalid triangle\")\n",
    "else:\n",
    "    print(\"Valid triangle\")\n",
    "    \n",
    "if (l1==l2 and b1==b2):\n",
    "    print (\"Valid Rectangle\")\n",
    "else:\n",
    "    print(\"Invalid Rectangle\")"
   ]
  },
  {
   "cell_type": "code",
   "execution_count": null,
   "id": "5db947df",
   "metadata": {},
   "outputs": [],
   "source": []
  }
 ],
 "metadata": {
  "kernelspec": {
   "display_name": "Python 3 (ipykernel)",
   "language": "python",
   "name": "python3"
  },
  "language_info": {
   "codemirror_mode": {
    "name": "ipython",
    "version": 3
   },
   "file_extension": ".py",
   "mimetype": "text/x-python",
   "name": "python",
   "nbconvert_exporter": "python",
   "pygments_lexer": "ipython3",
   "version": "3.9.12"
  }
 },
 "nbformat": 4,
 "nbformat_minor": 5
}
