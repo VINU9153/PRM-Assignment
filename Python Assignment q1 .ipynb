{
 "cells": [
  {
   "cell_type": "code",
   "execution_count": 1,
   "id": "f309dc66",
   "metadata": {},
   "outputs": [
    {
     "name": "stdout",
     "output_type": "stream",
     "text": [
      "given list  ['great', 'hello', 'hiyo', 'abc']\n",
      "result ['abc', 'great', 'hello', 'hiyo']\n"
     ]
    }
   ],
   "source": [
    "#QUESTION NO.1\n",
    "\n",
    "#Python Candidates \n",
    "#You will have a number of elements and in the next n lines element of a list. You have to create a list from the given strings. You have to sort the list based on 2nd last character of a string.\n",
    "#For example: given list = ['great','hello','hiyo','abc'] so your output_dictionary should be ['great', 'abc', 'hello','hiyo']\n",
    "#Input Format:\n",
    "#At first-line it will have an integer (number of elements inside a list). In the second line, it will have a string.\n",
    "#Output Format:\n",
    "#A single line containing a sorted list.\n",
    "\n",
    "\n",
    "\n",
    "\n",
    "given_list  = ['great','hello','hiyo','abc']\n",
    " \n",
    "\n",
    "print (\"given list \", str(given_list ))\n",
    " \n",
    "\n",
    "res = sorted(given_list , key = lambda x: x.split())\n",
    "     \n",
    "print (\"result\", res)"
   ]
  },
  {
   "cell_type": "code",
   "execution_count": null,
   "id": "df34c182",
   "metadata": {},
   "outputs": [],
   "source": []
  }
 ],
 "metadata": {
  "kernelspec": {
   "display_name": "Python 3 (ipykernel)",
   "language": "python",
   "name": "python3"
  },
  "language_info": {
   "codemirror_mode": {
    "name": "ipython",
    "version": 3
   },
   "file_extension": ".py",
   "mimetype": "text/x-python",
   "name": "python",
   "nbconvert_exporter": "python",
   "pygments_lexer": "ipython3",
   "version": "3.9.12"
  }
 },
 "nbformat": 4,
 "nbformat_minor": 5
}
